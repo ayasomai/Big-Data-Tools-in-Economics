{
 "cells": [
  {
   "cell_type": "markdown",
   "metadata": {},
   "source": [
    "# A homework on mulitway fixed effect approach\n",
    "\n",
    "[Download notebook :fontawesome-solid-download:](../hw-twfe.ipynb){: .md-button .md-button--primary download=\"hw-twfe.ipynb\"}\n",
    "\n",
    "In this homework we are going to consider a fictuous grading at a given universities and try to see what we can learn from grade variability and it affects earnings.\n",
    "\n",
    "In the first data set we have the grades collected by a bunch of student within a given summester. Each student attended 2 courses. From this data we are going to try to extrac the ability of each student while allowing for course specific intercept. We can then use this to evaluate how much of the grade variation is due to student differences versus course differences and other factors (residuals). \n",
    "\n",
    "Given this ability measures, we then merge a second file which has the earnings of the student at age 35. We then evaluate the effect of academic ability on individual earnings. Here again we will worry about the effect of over-fitting.\n",
    "\n",
    "Of course this requires, like we saw in class, estimating many parameters, hence we will look into overfitting and how to address it! We wil lmake use of sparse matrices, degree of freedom correction and bias correction.\n",
    "\n",
    "The two data files you will need are:\n",
    "\n",
    " - grades: [hw4-grades.json](http://econ21340.lamadon.com/hw4-grades.json)\n",
    " - earnings: [hw4-earnings.json](http://econ21340.lamadon.com/hw4-earnings.json)\n",
    "\n",
    "Useful links:\n",
    " - [Sparse linear solver](https://docs.scipy.org/doc/scipy/reference/generated/scipy.sparse.linalg.spsolve.html)"
   ]
  },
  {
   "cell_type": "code",
   "execution_count": 155,
   "metadata": {
    "ExecuteTime": {
     "end_time": "2020-06-01T21:52:32.818486Z",
     "start_time": "2020-06-01T21:52:31.654045Z"
    }
   },
   "outputs": [],
   "source": [
    "import os\n",
    "import pandas as pd\n",
    "import tqdm\n",
    "import seaborn as sns\n",
    "import matplotlib.pyplot as plt\n",
    "import numpy as np\n",
    "import json\n",
    "from scipy.sparse.linalg import spsolve, inv\n",
    "from scipy.sparse import csc_matrix, hstack\n",
    "import statsmodels.formula.api as smf"
   ]
  },
  {
   "cell_type": "code",
   "execution_count": 156,
   "metadata": {
    "ExecuteTime": {
     "end_time": "2020-06-01T21:52:41.709013Z",
     "start_time": "2020-06-01T21:52:41.525161Z"
    }
   },
   "outputs": [
    {
     "name": "stdout",
     "output_type": "stream",
     "text": [
      "/\n",
      "The autoreload extension is already loaded. To reload it, use:\n",
      "  %reload_ext autoreload\n"
     ]
    }
   ],
   "source": [
    "%cd ..\n",
    "%load_ext autoreload\n",
    "%autoreload 2\n",
    "#import solutions.sol_pset4 as solution # you need to command this, you don't have the solution file!\n",
    "#solution.simulate_data()"
   ]
  },
  {
   "cell_type": "markdown",
   "metadata": {},
   "source": [
    "# Explaining the dispersion in grades\n",
    "\n",
    "Load the grade data from `hw4-grades.json`. Then compute:\n",
    "\n",
    " 1. total variance in grades\n",
    " 2. the between class variance\n",
    " 3. plot the histogram of class size"
   ]
  },
  {
   "cell_type": "code",
   "execution_count": 157,
   "metadata": {},
   "outputs": [],
   "source": [
    "file_grades = os.path.expanduser(\"~/Downloads/hw4-grades.json\")\n",
    "\n",
    "grades = pd.read_json(file_grades, lines=True,\n",
    "                     dtype={'grade': float,\n",
    "                            'class_id': str,\n",
    "                            'student_id': int,\n",
    "                            'major': str,\n",
    "                            'firstname': str})"
   ]
  },
  {
   "cell_type": "code",
   "execution_count": 158,
   "metadata": {},
   "outputs": [],
   "source": [
    "def question1(df):\n",
    "    \n",
    "    # 1.1: calculate variance in grades \n",
    "    total_var = df.var()['grade']\n",
    "\n",
    "    # 1.2: calculate the between class variance\n",
    "    class_means = df.groupby(\"class_id\").agg('mean')['grade']\n",
    "    df_merge = df.merge(class_means, how = \"left\", on = \"class_id\")\n",
    "    class_var = df['grade'].var()\n",
    "    \n",
    "    # Print both variances \n",
    "    print('total variance is {}'.format(total_var))\n",
    "    print('between class variance is {}'.format(class_var))\n",
    "\n",
    "    # 1.3: plot histogram of class size \n",
    "    class_sizes = df.groupby('class_id').agg('count')['grade']\n",
    "    plt.hist(class_sizes)\n",
    "    plt.grid(b=True, which='major', linestyle='-')\n",
    "    \n",
    "    return df \n"
   ]
  },
  {
   "cell_type": "code",
   "execution_count": 159,
   "metadata": {
    "ExecuteTime": {
     "end_time": "2020-06-01T21:52:44.474495Z",
     "start_time": "2020-06-01T21:52:44.123087Z"
    },
    "scrolled": false
   },
   "outputs": [
    {
     "name": "stdout",
     "output_type": "stream",
     "text": [
      "total variance is 2.1999202001732217\n",
      "between class variance is 2.1999202001732217\n",
      "6732 students and 673 classes\n"
     ]
    },
    {
     "data": {
      "text/html": [
       "<div>\n",
       "<style scoped>\n",
       "    .dataframe tbody tr th:only-of-type {\n",
       "        vertical-align: middle;\n",
       "    }\n",
       "\n",
       "    .dataframe tbody tr th {\n",
       "        vertical-align: top;\n",
       "    }\n",
       "\n",
       "    .dataframe thead th {\n",
       "        text-align: right;\n",
       "    }\n",
       "</style>\n",
       "<table border=\"1\" class=\"dataframe\">\n",
       "  <thead>\n",
       "    <tr style=\"text-align: right;\">\n",
       "      <th></th>\n",
       "      <th>grade</th>\n",
       "      <th>class_id</th>\n",
       "      <th>student_id</th>\n",
       "      <th>major</th>\n",
       "      <th>firstname</th>\n",
       "    </tr>\n",
       "  </thead>\n",
       "  <tbody>\n",
       "    <tr>\n",
       "      <th>0</th>\n",
       "      <td>0.843900</td>\n",
       "      <td>GP8471</td>\n",
       "      <td>9</td>\n",
       "      <td>PHYSICAL AND HEALTH EDUCATION TEACHING</td>\n",
       "      <td>Leann</td>\n",
       "    </tr>\n",
       "    <tr>\n",
       "      <th>1</th>\n",
       "      <td>0.926570</td>\n",
       "      <td>IK1731</td>\n",
       "      <td>9</td>\n",
       "      <td>PHYSICAL AND HEALTH EDUCATION TEACHING</td>\n",
       "      <td>Leann</td>\n",
       "    </tr>\n",
       "    <tr>\n",
       "      <th>2</th>\n",
       "      <td>1.695413</td>\n",
       "      <td>GW2045</td>\n",
       "      <td>15</td>\n",
       "      <td>STUDIO ARTS</td>\n",
       "      <td>Marcus</td>\n",
       "    </tr>\n",
       "    <tr>\n",
       "      <th>3</th>\n",
       "      <td>-0.038370</td>\n",
       "      <td>ML7772</td>\n",
       "      <td>15</td>\n",
       "      <td>STUDIO ARTS</td>\n",
       "      <td>Marcus</td>\n",
       "    </tr>\n",
       "    <tr>\n",
       "      <th>4</th>\n",
       "      <td>2.129442</td>\n",
       "      <td>BI3547</td>\n",
       "      <td>22</td>\n",
       "      <td>MANAGEMENT INFORMATION SYSTEMS AND STATISTICS</td>\n",
       "      <td>Lonnie</td>\n",
       "    </tr>\n",
       "    <tr>\n",
       "      <th>...</th>\n",
       "      <td>...</td>\n",
       "      <td>...</td>\n",
       "      <td>...</td>\n",
       "      <td>...</td>\n",
       "      <td>...</td>\n",
       "    </tr>\n",
       "    <tr>\n",
       "      <th>13459</th>\n",
       "      <td>-2.318588</td>\n",
       "      <td>JE6164</td>\n",
       "      <td>49527</td>\n",
       "      <td>PUBLIC POLICY</td>\n",
       "      <td>Lea</td>\n",
       "    </tr>\n",
       "    <tr>\n",
       "      <th>13460</th>\n",
       "      <td>-1.458787</td>\n",
       "      <td>GQ0531</td>\n",
       "      <td>49534</td>\n",
       "      <td>PHYSICS</td>\n",
       "      <td>Leonard</td>\n",
       "    </tr>\n",
       "    <tr>\n",
       "      <th>13461</th>\n",
       "      <td>-1.560250</td>\n",
       "      <td>IX0276</td>\n",
       "      <td>49534</td>\n",
       "      <td>PHYSICS</td>\n",
       "      <td>Leonard</td>\n",
       "    </tr>\n",
       "    <tr>\n",
       "      <th>13462</th>\n",
       "      <td>2.091195</td>\n",
       "      <td>KX3268</td>\n",
       "      <td>49539</td>\n",
       "      <td>EARLY CHILDHOOD EDUCATION</td>\n",
       "      <td>Addie</td>\n",
       "    </tr>\n",
       "    <tr>\n",
       "      <th>13463</th>\n",
       "      <td>-0.105092</td>\n",
       "      <td>BN9468</td>\n",
       "      <td>49539</td>\n",
       "      <td>EARLY CHILDHOOD EDUCATION</td>\n",
       "      <td>Addie</td>\n",
       "    </tr>\n",
       "  </tbody>\n",
       "</table>\n",
       "<p>13464 rows × 5 columns</p>\n",
       "</div>"
      ],
      "text/plain": [
       "          grade class_id  student_id  \\\n",
       "0      0.843900   GP8471           9   \n",
       "1      0.926570   IK1731           9   \n",
       "2      1.695413   GW2045          15   \n",
       "3     -0.038370   ML7772          15   \n",
       "4      2.129442   BI3547          22   \n",
       "...         ...      ...         ...   \n",
       "13459 -2.318588   JE6164       49527   \n",
       "13460 -1.458787   GQ0531       49534   \n",
       "13461 -1.560250   IX0276       49534   \n",
       "13462  2.091195   KX3268       49539   \n",
       "13463 -0.105092   BN9468       49539   \n",
       "\n",
       "                                               major firstname  \n",
       "0             PHYSICAL AND HEALTH EDUCATION TEACHING     Leann  \n",
       "1             PHYSICAL AND HEALTH EDUCATION TEACHING     Leann  \n",
       "2                                        STUDIO ARTS    Marcus  \n",
       "3                                        STUDIO ARTS    Marcus  \n",
       "4      MANAGEMENT INFORMATION SYSTEMS AND STATISTICS    Lonnie  \n",
       "...                                              ...       ...  \n",
       "13459                                  PUBLIC POLICY       Lea  \n",
       "13460                                        PHYSICS   Leonard  \n",
       "13461                                        PHYSICS   Leonard  \n",
       "13462                      EARLY CHILDHOOD EDUCATION     Addie  \n",
       "13463                      EARLY CHILDHOOD EDUCATION     Addie  \n",
       "\n",
       "[13464 rows x 5 columns]"
      ]
     },
     "execution_count": 159,
     "metadata": {},
     "output_type": "execute_result"
    },
    {
     "data": {
      "image/png": "[encoded data removed]",
      "text/plain": [
       "<Figure size 432x288 with 1 Axes>"
      ]
     },
     "metadata": {
      "needs_background": "light"
     },
     "output_type": "display_data"
    }
   ],
   "source": [
    "df_all = question1(grades)\n",
    "\n",
    "ns = len(np.unique(df_all['student_id']))\n",
    "nc = len(np.unique(df_all['class_id']))\n",
    "nn = len(df_all)\n",
    "\n",
    "print(\"{} students and {} classes\".format(ns,nc))\n",
    "\n",
    "df_all[[\"grade\",\"class_id\",\"student_id\",\"major\",\"firstname\"]]"
   ]
  },
  {
   "cell_type": "markdown",
   "metadata": {},
   "source": [
    "# Constructing the sparse regressor matrices\n",
    "\n",
    "In a similar fashion to what we covered in the class we want to estimate a two-way fixed model of grates. Specifically, we are want to fit:\n",
    "\n",
    "$$y_{ic} = \\alpha_i + \\psi_c + \\epsilon_{ic}$$ \n",
    "\n",
    "where $i$ denotes each individual, $c$ denote each courses and $\\epsilon_{ic}$ is an error term that will assume conditional mean independent of the assignment of students to courses.\n",
    "\n",
    "We are going to estimate this using least-square. This requires that we construct the matrices that correspond to the equation for $y_{ic}$. We then want to consruct the $A$ and $J$ such that \n",
    "\n",
    "$$Y = A \\alpha + J \\psi + E$$ \n",
    "\n",
    "where for $n_s$ students each with $n_g$ grades in difference courses and a total of $n_c$ courses we have that $Y$ is $n_s \\cdot n_g \\times 1$ vector, $A$ is a $n_s \\cdot n_g \\times n_s$ matrix and $J$ is $n_s \\cdot n_g \\times n_c$. $\\alpha$ is the vector of size $n_s$ and $\\psi$ is a vector of size $n_c$.\n",
    "\n",
    "Each fo the $n_s \\cdot n_g$ correspond to a grade, in each row $A$ has a $1$ in the column corresponding to the individual of this row. Similary, $J$ has a $1$ for for the column corresponding to the class of that row.\n",
    "\n",
    "So, I ask you to:\n",
    "\n",
    " 1. construct these matrices using python sparse matrices `scipy.sparse.csc.csc_matrix`\n"
   ]
  },
  {
   "cell_type": "code",
   "execution_count": 160,
   "metadata": {},
   "outputs": [],
   "source": [
    "ns = len(np.unique(df_all['student_id']))\n",
    "nc = len(np.unique(df_all['class_id']))\n",
    "nn = len(df_all)\n",
    "\n",
    "def question2(df):\n",
    "   \n",
    "    # Construct matrix Y: ns⋅ng×1 \n",
    "    data = df['grade']\n",
    "    row_ind = np.asarray([i for i in range(nn)])\n",
    "    col_ind = np.asarray([0 for i in range(nn)])\n",
    "    Y = csc_matrix((data, (row_ind, col_ind)), shape = (nn, 1))\n",
    "    \n",
    "    # Construct matrix A: ns⋅ng×ns\n",
    "    data = np.asarray([1 for i in range(nn)])\n",
    "    row_ind = np.asarray([i for i in range(nn)])\n",
    "    col_ind = [i for i in range(ns) for j in (0,1)]\n",
    "    A = csc_matrix((data, (row_ind, col_ind)), shape = (nn, ns))\n",
    "    \n",
    "    # Construct matrix J: ns⋅ng×nc\n",
    "    class_ids = df['class_id'].sort_values().unique()\n",
    "    class_ids = pd.DataFrame(class_ids, columns = ['class_id'])\n",
    "\n",
    "    data = np.asarray([1 for i in range(nn)])\n",
    "    row_ind = np.asarray([i for i in range(nn)])\n",
    "    col_ind = [class_ids[class_ids['class_id']==i].index.item() for i in df['class_id']]\n",
    "    J = csc_matrix((data, (row_ind, col_ind)), shape = (nn, nc))\n",
    "    \n",
    "    return Y, A, J"
   ]
  },
  {
   "cell_type": "code",
   "execution_count": 161,
   "metadata": {},
   "outputs": [
    {
     "name": "stdout",
     "output_type": "stream",
     "text": [
      "<class 'scipy.sparse.csc.csc_matrix'>\n",
      "(13464, 6732)\n",
      "(13464, 673)\n",
      "(13464, 1)\n",
      "13464\n",
      "13464\n"
     ]
    },
    {
     "data": {
      "image/png": "[encoded data removed]",
      "text/plain": [
       "<Figure size 432x288 with 1 Axes>"
      ]
     },
     "metadata": {
      "needs_background": "light"
     },
     "output_type": "display_data"
    },
    {
     "data": {
      "image/png": "[encoded data removed]",
      "text/plain": [
       "<Figure size 432x288 with 1 Axes>"
      ]
     },
     "metadata": {
      "needs_background": "light"
     },
     "output_type": "display_data"
    }
   ],
   "source": [
    "Y,A,J = question2(df_all)\n",
    "\n",
    "print(type(A))\n",
    "print(A.shape)\n",
    "print(J.shape)\n",
    "print(Y.shape)\n",
    "print(A.sum())\n",
    "print(J.sum())\n",
    "\n",
    "# getting a nice diagonal here requires sorting by the studend_id\n",
    "plt.spy(A,aspect=0.1,markersize=0.2)\n",
    "plt.show()\n",
    "plt.spy(J,aspect=0.1,markersize=0.2)\n",
    "plt.show()"
   ]
  },
  {
   "cell_type": "markdown",
   "metadata": {},
   "source": [
    "# Estimating the model\n",
    "\n",
    "Next we estimate our model using the OLS estiamtor formula. We first remove the last column of $J$ (since the model we wrote does not pin down a constant we force the last course to have $\\psi=0$). Solve the linear system using the formula\n",
    "\n",
    "$$ \\hat{\\gamma} = (M'M)^{-1} M' Y $$\n",
    "\n",
    "where $M = [A,J]$ and $\\gamma = (\\alpha,\\psi)$.\n",
    "\n",
    "So do the following:\n",
    "\n",
    " 1. select the last column simply by doing `J = J[:,1:(nc-1]]`\n",
    " 2. use `scipy.sparse.hstack` to concatenate the matrices to create M\n",
    " 3. use `scipy.sparse.linalg.spsolve` to solve a sparse linear system\n",
    " 4. extract $\\hat{\\alpha}$ from $\\hat{\\gamma}$ by selecting the first $n_s$ terms \n",
    " 5. merge $\\hat{\\alpha}$ into `df_all`\n",
    " 6. compute the variance of $\\hat{\\alpha}$ in `df_all`\n",
    " 7. compute the variance of the residuals\n",
    " 8. What share of the total variation in grades can be attributed to difference in students?\n"
   ]
  },
  {
   "cell_type": "code",
   "execution_count": 162,
   "metadata": {},
   "outputs": [],
   "source": [
    "def question3(df,A,J,Y):\n",
    "    \n",
    "    #3.1 Select the column J\n",
    "    J = J[:,1:(nc-1)]\n",
    "    \n",
    "    #3.2 Concatenate the matrices to create M\n",
    "    M = hstack([A,J])\n",
    "    \n",
    "    #3.3.1 Transpose the resultant matrix M\n",
    "    M_inv = M.transpose()\n",
    "    \n",
    "    #3.3.2 Inverse the product of M with its tranpose\n",
    "    M_M_inv = M_inv * M\n",
    "    M_inv_Y = M_inv * Y\n",
    "    \n",
    "    #3.3.3 Solve the sparse linear system\n",
    "    #The matrix M_M_inv represents the right hand side of the equation\n",
    "    gamma = spsolve(M_M_inv, M_inv_Y)\n",
    "    \n",
    "    #3.4 Extract alpha_hat from gamma_hat\n",
    "    #Select the first ns terms\n",
    "    alpha = gamma[0:ns]\n",
    "    \n",
    "    #3.5 Merge alpha into df_all\n",
    "    #3.5.1 Sort df_all by unique student ids\n",
    "    students = df['student_id'].unique()\n",
    "    \n",
    "    #3.5.2 Create new data frame with alpha and student ids\n",
    "    df_alpha = pd.DataFrame(alpha)\n",
    "    df_alpha=df_alpha.rename(columns = {0: 'alpha_hat'})\n",
    "    \n",
    "    df_students = pd.DataFrame(students)\n",
    "    df_students = df_students.rename(columns = {0: 'student_id'})\n",
    "    \n",
    "    df_alpha_students = pd.concat([df_alpha, df_students], axis = 1)\n",
    "    \n",
    "    #3.5.2 Merge\n",
    "    df_local = df.copy()\n",
    "    df_local = df_local.merge(df_alpha_students, how = 'left', left_on = 'student_id', right_on = 'student_id')\n",
    "    \n",
    "    #3.6 Compute the variance of alpha in df_all\n",
    "    alpha_var = df_local['alpha_hat'].var()\n",
    "    \n",
    "    #3.7.1 Construct the residuals based on our OLS estiamtor formula\n",
    "    #The estimated value is gamma . M where: M=[A,J]\n",
    "    estimate = M * gamma\n",
    "    df_local['resid'] = df_local['grade'] - estimate\n",
    "    \n",
    "    #3.7.2 Compute the variance of the residuals\n",
    "    residuals_var = df_local['resid'].var()\n",
    "    \n",
    "    #3.8 Share of the total variation in grades can be attributed to difference in students\n",
    "    grades_var = df_local['grade'].var()\n",
    "    share_var = residuals_var/grades_var\n",
    "\n",
    "    return df_local, M, gamma\n"
   ]
  },
  {
   "cell_type": "code",
   "execution_count": 163,
   "metadata": {},
   "outputs": [
    {
     "name": "stdout",
     "output_type": "stream",
     "text": [
      "1.3362650061103234 0.24993167765745822 2.1999202001732217\n"
     ]
    },
    {
     "data": {
      "text/html": [
       "<div>\n",
       "<style scoped>\n",
       "    .dataframe tbody tr th:only-of-type {\n",
       "        vertical-align: middle;\n",
       "    }\n",
       "\n",
       "    .dataframe tbody tr th {\n",
       "        vertical-align: top;\n",
       "    }\n",
       "\n",
       "    .dataframe thead th {\n",
       "        text-align: right;\n",
       "    }\n",
       "</style>\n",
       "<table border=\"1\" class=\"dataframe\">\n",
       "  <thead>\n",
       "    <tr style=\"text-align: right;\">\n",
       "      <th></th>\n",
       "      <th>grade</th>\n",
       "      <th>class_id</th>\n",
       "      <th>student_id</th>\n",
       "      <th>major</th>\n",
       "      <th>firstname</th>\n",
       "      <th>alpha_hat</th>\n",
       "    </tr>\n",
       "  </thead>\n",
       "  <tbody>\n",
       "    <tr>\n",
       "      <th>0</th>\n",
       "      <td>0.843900</td>\n",
       "      <td>GP8471</td>\n",
       "      <td>9</td>\n",
       "      <td>PHYSICAL AND HEALTH EDUCATION TEACHING</td>\n",
       "      <td>Leann</td>\n",
       "      <td>1.108694</td>\n",
       "    </tr>\n",
       "    <tr>\n",
       "      <th>1</th>\n",
       "      <td>0.926570</td>\n",
       "      <td>IK1731</td>\n",
       "      <td>9</td>\n",
       "      <td>PHYSICAL AND HEALTH EDUCATION TEACHING</td>\n",
       "      <td>Leann</td>\n",
       "      <td>1.108694</td>\n",
       "    </tr>\n",
       "    <tr>\n",
       "      <th>2</th>\n",
       "      <td>1.695413</td>\n",
       "      <td>GW2045</td>\n",
       "      <td>15</td>\n",
       "      <td>STUDIO ARTS</td>\n",
       "      <td>Marcus</td>\n",
       "      <td>0.253192</td>\n",
       "    </tr>\n",
       "    <tr>\n",
       "      <th>3</th>\n",
       "      <td>-0.038370</td>\n",
       "      <td>ML7772</td>\n",
       "      <td>15</td>\n",
       "      <td>STUDIO ARTS</td>\n",
       "      <td>Marcus</td>\n",
       "      <td>0.253192</td>\n",
       "    </tr>\n",
       "    <tr>\n",
       "      <th>4</th>\n",
       "      <td>2.129442</td>\n",
       "      <td>BI3547</td>\n",
       "      <td>22</td>\n",
       "      <td>MANAGEMENT INFORMATION SYSTEMS AND STATISTICS</td>\n",
       "      <td>Lonnie</td>\n",
       "      <td>1.706414</td>\n",
       "    </tr>\n",
       "    <tr>\n",
       "      <th>...</th>\n",
       "      <td>...</td>\n",
       "      <td>...</td>\n",
       "      <td>...</td>\n",
       "      <td>...</td>\n",
       "      <td>...</td>\n",
       "      <td>...</td>\n",
       "    </tr>\n",
       "    <tr>\n",
       "      <th>13459</th>\n",
       "      <td>-2.318588</td>\n",
       "      <td>JE6164</td>\n",
       "      <td>49527</td>\n",
       "      <td>PUBLIC POLICY</td>\n",
       "      <td>Lea</td>\n",
       "      <td>-1.773030</td>\n",
       "    </tr>\n",
       "    <tr>\n",
       "      <th>13460</th>\n",
       "      <td>-1.458787</td>\n",
       "      <td>GQ0531</td>\n",
       "      <td>49534</td>\n",
       "      <td>PHYSICS</td>\n",
       "      <td>Leonard</td>\n",
       "      <td>-0.663055</td>\n",
       "    </tr>\n",
       "    <tr>\n",
       "      <th>13461</th>\n",
       "      <td>-1.560250</td>\n",
       "      <td>IX0276</td>\n",
       "      <td>49534</td>\n",
       "      <td>PHYSICS</td>\n",
       "      <td>Leonard</td>\n",
       "      <td>-0.663055</td>\n",
       "    </tr>\n",
       "    <tr>\n",
       "      <th>13462</th>\n",
       "      <td>2.091195</td>\n",
       "      <td>KX3268</td>\n",
       "      <td>49539</td>\n",
       "      <td>EARLY CHILDHOOD EDUCATION</td>\n",
       "      <td>Addie</td>\n",
       "      <td>0.840739</td>\n",
       "    </tr>\n",
       "    <tr>\n",
       "      <th>13463</th>\n",
       "      <td>-0.105092</td>\n",
       "      <td>BN9468</td>\n",
       "      <td>49539</td>\n",
       "      <td>EARLY CHILDHOOD EDUCATION</td>\n",
       "      <td>Addie</td>\n",
       "      <td>0.840739</td>\n",
       "    </tr>\n",
       "  </tbody>\n",
       "</table>\n",
       "<p>13464 rows × 6 columns</p>\n",
       "</div>"
      ],
      "text/plain": [
       "          grade class_id  student_id  \\\n",
       "0      0.843900   GP8471           9   \n",
       "1      0.926570   IK1731           9   \n",
       "2      1.695413   GW2045          15   \n",
       "3     -0.038370   ML7772          15   \n",
       "4      2.129442   BI3547          22   \n",
       "...         ...      ...         ...   \n",
       "13459 -2.318588   JE6164       49527   \n",
       "13460 -1.458787   GQ0531       49534   \n",
       "13461 -1.560250   IX0276       49534   \n",
       "13462  2.091195   KX3268       49539   \n",
       "13463 -0.105092   BN9468       49539   \n",
       "\n",
       "                                               major firstname  alpha_hat  \n",
       "0             PHYSICAL AND HEALTH EDUCATION TEACHING     Leann   1.108694  \n",
       "1             PHYSICAL AND HEALTH EDUCATION TEACHING     Leann   1.108694  \n",
       "2                                        STUDIO ARTS    Marcus   0.253192  \n",
       "3                                        STUDIO ARTS    Marcus   0.253192  \n",
       "4      MANAGEMENT INFORMATION SYSTEMS AND STATISTICS    Lonnie   1.706414  \n",
       "...                                              ...       ...        ...  \n",
       "13459                                  PUBLIC POLICY       Lea  -1.773030  \n",
       "13460                                        PHYSICS   Leonard  -0.663055  \n",
       "13461                                        PHYSICS   Leonard  -0.663055  \n",
       "13462                      EARLY CHILDHOOD EDUCATION     Addie   0.840739  \n",
       "13463                      EARLY CHILDHOOD EDUCATION     Addie   0.840739  \n",
       "\n",
       "[13464 rows x 6 columns]"
      ]
     },
     "execution_count": 163,
     "metadata": {},
     "output_type": "execute_result"
    }
   ],
   "source": [
    "df_all, M, gamma_hat = question3(df_all,A,J,Y)\n",
    "print(df_all['alpha_hat'].var(),df_all['resid'].var(),df_all['grade'].var())\n",
    "df_all[[\"grade\",\"class_id\",\"student_id\",\"major\",\"firstname\",\"alpha_hat\"]]"
   ]
  },
  {
   "cell_type": "markdown",
   "metadata": {},
   "source": [
    "####  3.8: What share of the total variation in grades can be attributed to difference in students?\n",
    "The total variation in grades is 2.20, and the variation attributed to the difference in students is 1.33. Therefore, the share of the total variation in grades that can be attributed to the difference in students is 1.33/2.20 = 60%. "
   ]
  },
  {
   "cell_type": "markdown",
   "metadata": {},
   "source": [
    "# A simple evaluation of our estimator\n",
    "\n",
    "To see what we are dealing with, we are simly going to re-simulate using our estimated parameters, then re-run our estimation and compare the new results to the previous one. This is in the spirit of a bootstrap exercise, onyl we will just do it once this time.\n",
    "\n",
    "Please do:\n",
    "\n",
    " 1. create $Y_2 = M \\hat{\\gamma} + \\hat{\\sigma}_r E$ where $E$ is a vector of draw from a standard normal.\n",
    " 2. estimate $\\hat{\\gamma}_2$ from $Y_2$\n",
    " 3. report the new variance term and compare them to the previously estimated\n",
    " 4. comment on the results (not that because of the seed and ordering, your number doesn't have to match mine exactly)\n"
   ]
  },
  {
   "cell_type": "code",
   "execution_count": 164,
   "metadata": {},
   "outputs": [],
   "source": [
    "def question4(df,M_matrix,gamma):\n",
    "    \n",
    "    #4.1 Re-simulate Y using our estimated parameters\n",
    "    \n",
    "    #M and gamma_hat are estimated in the previous problem\n",
    "    #Draw E from a standard normal \n",
    "    #Using the standard deviation of the residuals from our previous estimation\n",
    "    residuals_var=df['resid'].var()\n",
    "    Y_new = M_matrix * gamma + np.random.normal(size = nn)*np.sqrt(residuals_var)\n",
    "    \n",
    "    #4.2 Re-run the estimation\n",
    "    M_inv=M_matrix.transpose()\n",
    "    \n",
    "    M_M_inv=M_inv*M_matrix\n",
    "    M_inv_Y=M_inv*Y_new\n",
    "    \n",
    "    #Estimate new gamma_hat from Y_new\n",
    "    gamma_new=spsolve(M_M_inv, M_inv_Y)\n",
    "    alpha_new=gamma_new[0:ns]\n",
    "    \n",
    "    #4.3 Report the new variance term\n",
    "    \n",
    "    #4.3.1 Create new data frame with alpha and student ids\n",
    "    \n",
    "    students=df['student_id'].unique()\n",
    "    df_alpha = pd.DataFrame(alpha_new)\n",
    "    df_alpha=df_alpha.rename(columns={0: 'alpha_hat2'})\n",
    "    \n",
    "    df_students = pd.DataFrame(students)\n",
    "    df_students=df_students.rename(columns={0: 'student_id'})\n",
    "    \n",
    "    df_alpha_students=pd.concat([df_alpha, df_students], axis=1)\n",
    "    \n",
    "    #4.3.2 Merge\n",
    "    df_local2=df.copy()\n",
    "    df_local2 = df_local2.merge(df_alpha_students, how='left', left_on='student_id', right_on='student_id')\n",
    "    \n",
    "    #4.3.3 Compute the variance of alpha in df_all\n",
    "    alpha_var2=df_local2['alpha_hat2'].var()\n",
    "    \n",
    "    #4.3.4 Construct the residuals based on our OLS estiamtor formula\n",
    "    #The estimated value is gamma . M where: M=[A,J]\n",
    "    estimate2=M_matrix*gamma_new\n",
    "    df_local2['resid2']=Y_new-estimate2\n",
    "    \n",
    "    #3.7.2 Compute the variance of the residuals\n",
    "    residuals_var=df_local2['resid2'].var()\n",
    "    \n",
    "    return df_local2"
   ]
  },
  {
   "cell_type": "code",
   "execution_count": 165,
   "metadata": {},
   "outputs": [
    {
     "data": {
      "text/plain": [
       "(1.4703210132861886, 0.11222277379891199)"
      ]
     },
     "execution_count": 165,
     "metadata": {},
     "output_type": "execute_result"
    }
   ],
   "source": [
    "df_all = question4(df_all,M,gamma_hat)\n",
    "df_all['alpha_hat2'].var(),df_all['resid2'].var()"
   ]
  },
  {
   "cell_type": "markdown",
   "metadata": {},
   "source": [
    "####  4.4: comment on the results (note that because of the seed and ordering, your number doesn't have to match mine exactly)\n",
    "This exercise was a bootstrap-esque estimation where we re-simulated the parameters and estimated a new alpha hat 2. The variance of the new alpha hat 2 is 1.47, which is larger than the variance of alpha hat in the previous question, 1.3. Additionally, the variance of the new residuals is 0.11, which is also smaller than the variance of the residuals in the previous problem, 0.25. These results are interesting becaue the variance of the new alpha hat estimator increased, but the variance new residuals decrease. This could be a sign of overfitting, because the decrease in variance of the residauls occured from just one resimulation and reestimation.  "
   ]
  },
  {
   "cell_type": "markdown",
   "metadata": {},
   "source": [
    "Noticed how even the variance of the residual has shrunk? Now is the time to remember STATS 101. We have all heard this thing about degree of freedom correction! Indeed we should correct our raw variance estimates to control for the fact that we have estimated a bunhc of dummies. Usually we use $n/n-1$ because we only estimate one mean. Here however we have estimated $n_s +n_c - 1$ means! Hence we should use \n",
    "\n",
    "$$ \\frac{N}{N-n_s -n_c +1} \\hat{Var}(\\hat{\\epsilon}) $$\n",
    "\n",
    "please do:\n",
    "\n",
    " 1. compute this variance corrected for degree of freedom using your recomputed residuals \n",
    " 2. compare this variance to the variance you estimated in quetion 3\n",
    " 3. what does this suggest about your estimates in Q3?"
   ]
  },
  {
   "cell_type": "code",
   "execution_count": 166,
   "metadata": {},
   "outputs": [],
   "source": [
    "def question4b(df):\n",
    "    \n",
    "    #4b.1.1 Compute the degrees of freedom\n",
    "    dof=nn/(nn - ns - nc + 1)\n",
    "    \n",
    "    #4b.1.2 Compute the variance corrected for degree of freedom\n",
    "    #Using the newly computed residuals from the dataframe\n",
    "    residuals_var_corrected=(df['resid2'].var())*dof\n",
    "    \n",
    "    print('Var2 with degree of freedom correction:{}'.format(residuals_var_corrected))"
   ]
  },
  {
   "cell_type": "code",
   "execution_count": 167,
   "metadata": {},
   "outputs": [
    {
     "name": "stdout",
     "output_type": "stream",
     "text": [
      "Var2 with degree of freedom correction:0.2493345588165926\n"
     ]
    }
   ],
   "source": [
    "question4b(df_all)"
   ]
  },
  {
   "cell_type": "markdown",
   "metadata": {},
   "source": [
    "#### 4b.2: compare this variance to the variance you estimated in question 3\n",
    "This new corrected variance of 0.249 is very similar to the variance we estimated in question 3 of 0.250.\n",
    "\n",
    "#### 4b.3: what does this suggest about your estimates in Q3?\n",
    "This suggests that the estimates in question 3 are likely to be more accurate than the estimates we found in question 4, since they match the estimate for variance after we corrected for degrees of freedom. This also suggests that the degree of freedom correction is necessary when resimulating and reestimating the variance."
   ]
  },
  {
   "cell_type": "markdown",
   "metadata": {},
   "source": [
    "# Evaluate impact of academic measure on earnings \n",
    "\n",
    "In this section we load a separate data set that contains for each student their earnings at age 35. We are intereted in the effect of $\\alpha$ on earnings. \n",
    "\n",
    "Do the following:\n",
    "\n",
    " 1. load the data the earnings data listed in the intro\n",
    " 2. merge $\\alpha$ into the data\n",
    " 3. regress earnings on $\\alpha$."
   ]
  },
  {
   "cell_type": "code",
   "execution_count": 168,
   "metadata": {},
   "outputs": [],
   "source": [
    "#5.1 Loading the json files with the earnings data listed in the intro\n",
    "file_earnings = os.path.expanduser(\"~/Downloads/hw4-earnings.json\")\n",
    "\n",
    "earnings = pd.read_json(file_earnings, lines=True,\n",
    "                     dtype={'grade': float,\n",
    "                            'class_id': str,\n",
    "                            'student_id': int,\n",
    "                            'major': str,\n",
    "                            'firstname': str})"
   ]
  },
  {
   "cell_type": "code",
   "execution_count": 169,
   "metadata": {},
   "outputs": [],
   "source": [
    "def question5(df):\n",
    "    \n",
    "    #5.2 Merge alpha into the data\n",
    "    df_alpha = df[['student_id', 'alpha_hat']]\n",
    "    df_merge = earnings.merge(df_alpha, how='left', on='student_id')\n",
    "    df_merge = df_merge.drop_duplicates().reset_index(drop=True)\n",
    "\n",
    "    #Regress earnings on alpha\n",
    "    regression = smf.ols('earnings ~ alpha_hat', data = df_merge).fit()\n",
    "    \n",
    "    print(regression.summary())\n",
    "    \n",
    "    return df_merge"
   ]
  },
  {
   "cell_type": "code",
   "execution_count": 170,
   "metadata": {},
   "outputs": [
    {
     "name": "stdout",
     "output_type": "stream",
     "text": [
      "                            OLS Regression Results                            \n",
      "==============================================================================\n",
      "Dep. Variable:               earnings   R-squared:                       0.025\n",
      "Model:                            OLS   Adj. R-squared:                  0.025\n",
      "Method:                 Least Squares   F-statistic:                     173.0\n",
      "Date:                Sun, 13 Dec 2020   Prob (F-statistic):           5.05e-39\n",
      "Time:                        05:17:28   Log-Likelihood:                -9594.9\n",
      "No. Observations:                6732   AIC:                         1.919e+04\n",
      "Df Residuals:                    6730   BIC:                         1.921e+04\n",
      "Df Model:                           1                                         \n",
      "Covariance Type:            nonrobust                                         \n",
      "==============================================================================\n",
      "                 coef    std err          t      P>|t|      [0.025      0.975]\n",
      "------------------------------------------------------------------------------\n",
      "Intercept     -0.0324      0.012     -2.634      0.008      -0.057      -0.008\n",
      "alpha_hat      0.1396      0.011     13.151      0.000       0.119       0.160\n",
      "==============================================================================\n",
      "Omnibus:                        0.816   Durbin-Watson:                   1.993\n",
      "Prob(Omnibus):                  0.665   Jarque-Bera (JB):                0.771\n",
      "Skew:                           0.013   Prob(JB):                        0.680\n",
      "Kurtosis:                       3.045   Cond. No.                         1.19\n",
      "==============================================================================\n",
      "\n",
      "Warnings:\n",
      "[1] Standard Errors assume that the covariance matrix of the errors is correctly specified.\n"
     ]
    },
    {
     "data": {
      "text/html": [
       "<div>\n",
       "<style scoped>\n",
       "    .dataframe tbody tr th:only-of-type {\n",
       "        vertical-align: middle;\n",
       "    }\n",
       "\n",
       "    .dataframe tbody tr th {\n",
       "        vertical-align: top;\n",
       "    }\n",
       "\n",
       "    .dataframe thead th {\n",
       "        text-align: right;\n",
       "    }\n",
       "</style>\n",
       "<table border=\"1\" class=\"dataframe\">\n",
       "  <thead>\n",
       "    <tr style=\"text-align: right;\">\n",
       "      <th></th>\n",
       "      <th>student_id</th>\n",
       "      <th>major</th>\n",
       "      <th>firstname</th>\n",
       "      <th>earnings</th>\n",
       "      <th>alpha_hat</th>\n",
       "    </tr>\n",
       "  </thead>\n",
       "  <tbody>\n",
       "    <tr>\n",
       "      <th>0</th>\n",
       "      <td>9</td>\n",
       "      <td>PHYSICAL AND HEALTH EDUCATION TEACHING</td>\n",
       "      <td>Leann</td>\n",
       "      <td>-1.498308</td>\n",
       "      <td>1.108694</td>\n",
       "    </tr>\n",
       "    <tr>\n",
       "      <th>1</th>\n",
       "      <td>15</td>\n",
       "      <td>STUDIO ARTS</td>\n",
       "      <td>Marcus</td>\n",
       "      <td>2.908033</td>\n",
       "      <td>0.253192</td>\n",
       "    </tr>\n",
       "    <tr>\n",
       "      <th>2</th>\n",
       "      <td>22</td>\n",
       "      <td>MANAGEMENT INFORMATION SYSTEMS AND STATISTICS</td>\n",
       "      <td>Lonnie</td>\n",
       "      <td>0.933555</td>\n",
       "      <td>1.706414</td>\n",
       "    </tr>\n",
       "    <tr>\n",
       "      <th>3</th>\n",
       "      <td>24</td>\n",
       "      <td>MISCELLANEOUS FINE ARTS</td>\n",
       "      <td>Seamus</td>\n",
       "      <td>-0.913896</td>\n",
       "      <td>-1.118323</td>\n",
       "    </tr>\n",
       "    <tr>\n",
       "      <th>4</th>\n",
       "      <td>35</td>\n",
       "      <td>MEDICAL ASSISTING SERVICES</td>\n",
       "      <td>Wilbert</td>\n",
       "      <td>0.545178</td>\n",
       "      <td>1.461359</td>\n",
       "    </tr>\n",
       "    <tr>\n",
       "      <th>...</th>\n",
       "      <td>...</td>\n",
       "      <td>...</td>\n",
       "      <td>...</td>\n",
       "      <td>...</td>\n",
       "      <td>...</td>\n",
       "    </tr>\n",
       "    <tr>\n",
       "      <th>6727</th>\n",
       "      <td>49520</td>\n",
       "      <td>ANIMAL SCIENCES</td>\n",
       "      <td>Amos</td>\n",
       "      <td>-1.723242</td>\n",
       "      <td>0.807726</td>\n",
       "    </tr>\n",
       "    <tr>\n",
       "      <th>6728</th>\n",
       "      <td>49525</td>\n",
       "      <td>COMMERCIAL ART AND GRAPHIC DESIGN</td>\n",
       "      <td>Isaac</td>\n",
       "      <td>1.264385</td>\n",
       "      <td>0.102995</td>\n",
       "    </tr>\n",
       "    <tr>\n",
       "      <th>6729</th>\n",
       "      <td>49527</td>\n",
       "      <td>PUBLIC POLICY</td>\n",
       "      <td>Lea</td>\n",
       "      <td>-0.368899</td>\n",
       "      <td>-1.773030</td>\n",
       "    </tr>\n",
       "    <tr>\n",
       "      <th>6730</th>\n",
       "      <td>49534</td>\n",
       "      <td>PHYSICS</td>\n",
       "      <td>Leonard</td>\n",
       "      <td>1.244166</td>\n",
       "      <td>-0.663055</td>\n",
       "    </tr>\n",
       "    <tr>\n",
       "      <th>6731</th>\n",
       "      <td>49539</td>\n",
       "      <td>EARLY CHILDHOOD EDUCATION</td>\n",
       "      <td>Addie</td>\n",
       "      <td>1.735586</td>\n",
       "      <td>0.840739</td>\n",
       "    </tr>\n",
       "  </tbody>\n",
       "</table>\n",
       "<p>6732 rows × 5 columns</p>\n",
       "</div>"
      ],
      "text/plain": [
       "      student_id                                          major firstname  \\\n",
       "0              9         PHYSICAL AND HEALTH EDUCATION TEACHING     Leann   \n",
       "1             15                                    STUDIO ARTS    Marcus   \n",
       "2             22  MANAGEMENT INFORMATION SYSTEMS AND STATISTICS    Lonnie   \n",
       "3             24                        MISCELLANEOUS FINE ARTS    Seamus   \n",
       "4             35                     MEDICAL ASSISTING SERVICES   Wilbert   \n",
       "...          ...                                            ...       ...   \n",
       "6727       49520                                ANIMAL SCIENCES      Amos   \n",
       "6728       49525              COMMERCIAL ART AND GRAPHIC DESIGN     Isaac   \n",
       "6729       49527                                  PUBLIC POLICY       Lea   \n",
       "6730       49534                                        PHYSICS   Leonard   \n",
       "6731       49539                      EARLY CHILDHOOD EDUCATION     Addie   \n",
       "\n",
       "      earnings  alpha_hat  \n",
       "0    -1.498308   1.108694  \n",
       "1     2.908033   0.253192  \n",
       "2     0.933555   1.706414  \n",
       "3    -0.913896  -1.118323  \n",
       "4     0.545178   1.461359  \n",
       "...        ...        ...  \n",
       "6727 -1.723242   0.807726  \n",
       "6728  1.264385   0.102995  \n",
       "6729 -0.368899  -1.773030  \n",
       "6730  1.244166  -0.663055  \n",
       "6731  1.735586   0.840739  \n",
       "\n",
       "[6732 rows x 5 columns]"
      ]
     },
     "execution_count": 170,
     "metadata": {},
     "output_type": "execute_result"
    }
   ],
   "source": [
    "df_earnings = question5(df_all)\n",
    "df_earnings"
   ]
  },
  {
   "cell_type": "markdown",
   "metadata": {},
   "source": [
    "# Bias correction - construct the Q matrix\n",
    "\n",
    "We want to apply bias correction to refine our results. As we have seen in class thaqt we can directly compute the bias of the expression of interest.\n",
    "\n",
    "$$ E[ \\hat{\\gamma} Q \\hat{\\gamma}' ] = \\gamma Q \\gamma + \\frac{\\sigma^2}{n} \\text{Tr}[ ( M'M )^{-1} Q] $$\n",
    "\n",
    "under homoskedatic assumption of the error and hence we get the following expresison for the bias for any $Q$ matrix:\n",
    "\n",
    "$$ B = \\frac{\\sigma^2}{N} \\text{Tr}[ ( M'M )^{-1} Q] $$\n",
    "\n",
    "When computing the variance of the measured ability of the student, we simply use a diagonal matrix on $\\gamma$ which selects only the ability part and removes the average. \n",
    "\n",
    "do:\n",
    " 1. Construct such Q matrix.\n",
    " 2. check that $\\gamma Q \\gamma' = \\hat{Var}(\\hat{a})$."
   ]
  },
  {
   "cell_type": "code",
   "execution_count": 171,
   "metadata": {},
   "outputs": [],
   "source": [
    "def question6(ns, nc):\n",
    "    diag = np.eye(ns)\n",
    "    n = np.full((ns, ns), ns)\n",
    "    Q = diag - 1/n\n",
    "    zeros = np.full((ns, nc - 2), 0)\n",
    "    zeros2 = np.full((nc - 2, ns + nc -2), 0)\n",
    "\n",
    "    Q2 = np.append(Q, zeros, axis = 1)\n",
    "    Q3 = np.append(Q2, zeros2, axis = 0)\n",
    "    \n",
    "    return Q3"
   ]
  },
  {
   "cell_type": "code",
   "execution_count": 172,
   "metadata": {
    "ExecuteTime": {
     "end_time": "2020-05-30T16:36:46.383030Z",
     "start_time": "2020-05-30T16:36:45.259308Z"
    }
   },
   "outputs": [
    {
     "name": "stdout",
     "output_type": "stream",
     "text": [
      "[[ 0.8 -0.2 -0.2 -0.2 -0.2  0.   0. ]\n",
      " [-0.2  0.8 -0.2 -0.2 -0.2  0.   0. ]\n",
      " [-0.2 -0.2  0.8 -0.2 -0.2  0.   0. ]\n",
      " [-0.2 -0.2 -0.2  0.8 -0.2  0.   0. ]\n",
      " [-0.2 -0.2 -0.2 -0.2  0.8  0.   0. ]\n",
      " [ 0.   0.   0.   0.   0.   0.   0. ]\n",
      " [ 0.   0.   0.   0.   0.   0.   0. ]]\n"
     ]
    },
    {
     "data": {
      "text/plain": [
       "(1.3361657588579536, 1.3361657588579536)"
      ]
     },
     "execution_count": 172,
     "metadata": {},
     "output_type": "execute_result"
    }
   ],
   "source": [
    "# a small example if we had ns=5,nc=4\n",
    "Qbis = question6(ns=5,nc=4)\n",
    "print(Qbis)\n",
    "\n",
    "# the full Q\n",
    "Q = question6(ns,nc)\n",
    "\n",
    "# comparing Q expression to df_all expression\n",
    "1/(ns)*np.matmul( gamma_hat, np.matmul(Q,gamma_hat )), gamma_hat[range(ns)].var()"
   ]
  },
  {
   "cell_type": "markdown",
   "metadata": {},
   "source": [
    "# Bias correction - Variance share\n",
    "\n",
    "We are now finally in the position to compute our bias. We have are matrix $Q$. Now we also need the variance of the residual! Given what we have learn in Question 4, we definitely want to use the formula with degree of freedom correction.\n",
    "\n",
    "1. Compute $\\sigma^2_r$ with the degree of freedom correction\n",
    "2. Invert $M'M$ using `scipy.sparse.linalg`\n",
    "3. Compute $B = \\frac{\\sigma^2}{N} \\text{Tr}[ ( M'M )^{-1} Q]$ using `np.trace`\n",
    "4. Remove this from original estimate to get the share of variance explained by student differences!\n",
    "\n",
    "Note that inversing a matrix is far longer than solving a linear system. You might need to be patient here!\n"
   ]
  },
  {
   "cell_type": "code",
   "execution_count": 173,
   "metadata": {},
   "outputs": [],
   "source": [
    "def question7(M, Q, df_all):\n",
    "    # 7.1:  Compute  𝜎2𝑟  with the degree of freedom correction\n",
    "    var = df_all['resid'].var()\n",
    "    dof_correction = nn / (1 - ns - nc + nn)\n",
    "    var = dof_correction * var\n",
    "\n",
    "    # 7.2: Invert M'M using `scipy.sparse.linalg`\n",
    "    MpM_inv = inv(M.transpose() * M)\n",
    "\n",
    "    # 7.3: Compute  𝐵=𝜎2𝑁Tr[(𝑀′𝑀)−1𝑄]  using np.trace\n",
    "    B = (eps_var2/(nn/2)) * np.trace(MpM_inv*Q)\n",
    "    \n",
    "    return B"
   ]
  },
  {
   "cell_type": "code",
   "execution_count": 174,
   "metadata": {
    "ExecuteTime": {
     "end_time": "2020-05-30T16:38:13.444665Z",
     "start_time": "2020-05-30T16:36:46.386045Z"
    }
   },
   "outputs": [
    {
     "name": "stderr",
     "output_type": "stream",
     "text": [
      "/Applications/anaconda3/lib/python3.7/site-packages/scipy/sparse/linalg/dsolve/linsolve.py:310: SparseEfficiencyWarning: splu requires CSC matrix format\n",
      "  warn('splu requires CSC matrix format', SparseEfficiencyWarning)\n",
      "/Applications/anaconda3/lib/python3.7/site-packages/scipy/sparse/linalg/dsolve/linsolve.py:208: SparseEfficiencyWarning: spsolve is more efficient when sparse b is in the CSC matrix format\n",
      "  'is in the CSC matrix format', SparseEfficiencyWarning)\n"
     ]
    },
    {
     "data": {
      "text/plain": [
       "0.3082431433013275"
      ]
     },
     "execution_count": 174,
     "metadata": {},
     "output_type": "execute_result"
    }
   ],
   "source": [
    "B = question7(M,Q,df_all)\n",
    "B"
   ]
  },
  {
   "cell_type": "code",
   "execution_count": 175,
   "metadata": {
    "ExecuteTime": {
     "end_time": "2020-05-30T16:38:13.560355Z",
     "start_time": "2020-05-30T16:38:13.447923Z"
    }
   },
   "outputs": [
    {
     "data": {
      "text/plain": [
       "1.0279226155566261"
      ]
     },
     "execution_count": 175,
     "metadata": {},
     "output_type": "execute_result"
    }
   ],
   "source": [
    "gamma_hat[range(ns)].var() - B"
   ]
  },
  {
   "cell_type": "markdown",
   "metadata": {},
   "source": [
    "# Bias correction - Regression coefficient\n",
    "\n",
    "Finally, we look back at our regression of earnings on estimated academic ability. We have seen in class that when the regressor has measurment error this will suffer from attenuation bias. Here we now know exactly how much of the variance is noise thanks to our bias correction.\n",
    "\n",
    "The attenuation bias is given by :\n",
    "\n",
    "$$ \\beta_2 = \\frac{Var(x)}{Var(x) + B} \\beta $$\n",
    "\n",
    "We then decide to compute a correction for our regression using our estimated $B$. This means computing a corrected parameters as follows:\n",
    "\n",
    "$$ \\hat{\\beta}^{BC} = \\frac{Var(x) + B}{Var(x)} \\hat{\\beta}^{Q5} = \\frac{Var(\\hat{\\alpha})}{Var(\\hat{\\alpha})-B} \\hat{\\beta}^{Q5} $$\n",
    "\n",
    "\n",
    "Do:\n",
    "\n",
    " 1. compute the corrected $\\hat{\\beta}^{BC}$\n",
    " 2. FIY, the true $\\beta$ I used to simulate the data was **0.2**, is your final parameter far? Is is economically different from the $\\hat{\\beta}^{Q5}$ we got in Question 5?\n",
    " "
   ]
  },
  {
   "cell_type": "code",
   "execution_count": 176,
   "metadata": {},
   "outputs": [
    {
     "data": {
      "text/plain": [
       "0.18141251701776565"
      ]
     },
     "execution_count": 176,
     "metadata": {},
     "output_type": "execute_result"
    }
   ],
   "source": [
    "# Find beta from question 5\n",
    "df_alpha = df_all[[\"student_id\", \"alpha_hat\"]]\n",
    "df_merge = earnings.merge(df_alpha, how='left', on='student_id')\n",
    "df_merge = df_merge.drop_duplicates().reset_index(drop=True)\n",
    "regression = smf.ols('earnings ~ alpha_hat', data = df_merge).fit()\n",
    "beta_q5 = regression.params[1]\n",
    "\n",
    "# Find variance of alpha_hat\n",
    "var_ahat = df_all['alpha_hat'].var()\n",
    "\n",
    "# Compute corrected beta\n",
    "new_beta = (var_ahat / (var_ahat - B)) * beta_q5\n",
    "new_beta"
   ]
  },
  {
   "cell_type": "code",
   "execution_count": 177,
   "metadata": {},
   "outputs": [
    {
     "data": {
      "text/plain": [
       "0.13956515573533984"
      ]
     },
     "execution_count": 177,
     "metadata": {},
     "output_type": "execute_result"
    }
   ],
   "source": [
    "beta_q5"
   ]
  },
  {
   "cell_type": "markdown",
   "metadata": {},
   "source": [
    "#### 8.2: FIY, the true $\\beta$ I used to simulate the data was **0.2**, is your final parameter far? Is is economically different from the $\\hat{\\beta}^{Q5}$ we got in Question 5?\n",
    "\n",
    "The corrected beta we calculated is 0.18, which is very close to the true parameter of 0.2. The corrected beta also seems to be economically different from the beta estimate from question 5, which was 0.14. After correcting for attenuation bias, the coefficient on the impact of grades on earnigns was 0.29% higher, which shows a much stronger role that academics play on future earnings than our previous estimate that did not correct for attenuation bias. This also makes sense because in class, we learned that direction attenuation bias was always towards zero, and since we have a positive estimate, attenuation bias would direct us toward a smaller estimate. \n"
   ]
  },
  {
   "cell_type": "markdown",
   "metadata": {},
   "source": [
    "# Conclusion\n",
    "\n",
    "I hope you have learned about the pitfalls of over-fitting in this assignment! There are many and they can drastically affect the results and the conclusion of an empirical analysis. \n",
    "\n",
    "This is the end of the class, I hope you enjoyed it and that you learned a thing or two, have a nice Christmas!"
   ]
  }
 ],
 "metadata": {
  "@webio": {
   "lastCommId": null,
   "lastKernelId": null
  },
  "kernelspec": {
   "display_name": "Python [conda env:root]",
   "language": "python",
   "name": "conda-root-py"
  },
  "language_info": {
   "codemirror_mode": {
    "name": "ipython",
    "version": 3
   },
   "file_extension": ".py",
   "mimetype": "text/x-python",
   "name": "python",
   "nbconvert_exporter": "python",
   "pygments_lexer": "ipython3",
   "version": "3.7.6"
  },
  "toc": {
   "base_numbering": 1,
   "nav_menu": {},
   "number_sections": true,
   "sideBar": true,
   "skip_h1_title": false,
   "title_cell": "Table of Contents",
   "title_sidebar": "Contents",
   "toc_cell": false,
   "toc_position": {},
   "toc_section_display": true,
   "toc_window_display": false
  },
  "varInspector": {
   "cols": {
    "lenName": 16,
    "lenType": 16,
    "lenVar": 40
   },
   "kernels_config": {
    "python": {
     "delete_cmd_postfix": "",
     "delete_cmd_prefix": "del ",
     "library": "var_list.py",
     "varRefreshCmd": "print(var_dic_list())"
    },
    "r": {
     "delete_cmd_postfix": ") ",
     "delete_cmd_prefix": "rm(",
     "library": "var_list.r",
     "varRefreshCmd": "cat(var_dic_list()) "
    }
   },
   "types_to_exclude": [
    "module",
    "function",
    "builtin_function_or_method",
    "instance",
    "_Feature"
   ],
   "window_display": false
  }
 },
 "nbformat": 4,
 "nbformat_minor": 2
}
